{
 "cells": [
  {
   "cell_type": "code",
   "execution_count": 4,
   "metadata": {},
   "outputs": [
    {
     "name": "stdout",
     "output_type": "stream",
     "text": [
      "First read cigar string: 76M\n",
      "First read flag: 1187\n",
      "Number of unmapped reads in file: 17765\n",
      "Total number of reads: 2921629\n",
      "Number of reads with mapping quality 0: 126628\n",
      "Average mapping quality for all the reads: 55.91379158681681\n",
      "Average mapping quality if reads with 0 mapp quality are filtered out: 58.446975510921106\n"
     ]
    }
   ],
   "source": [
    "import pysam\n",
    "file = pysam.AlignmentFile(\"/sbgenomics/project-files/merged-tumor.bam\")\n",
    "\n",
    "count = 0\n",
    "unmapped = 0\n",
    "quality0 = 0\n",
    "sumq = 0\n",
    "sumnot0 = 0\n",
    "\n",
    "for read in file:\n",
    "    if(count == 0):\n",
    "        print(\"First read cigar string: \" + str(read.cigarstring))\n",
    "        print(\"First read flag: \" + str(read.flag))\n",
    "    if(read.is_unmapped):\n",
    "        unmapped = unmapped + 1\n",
    "    if(read.mapping_quality == 0):\n",
    "        quality0 = quality0 + 1\n",
    "    else:\n",
    "        sumnot0 = sumnot0 + read.mapping_quality\n",
    "    count = count + 1\n",
    "    sumq = sumq + read.mapping_quality\n",
    "\n",
    "print(\"Number of unmapped reads in file: \" + str(unmapped))\n",
    "print(\"Total number of reads: \" + str(count))\n",
    "print(\"Number of reads with mapping quality 0: \" + str(quality0))\n",
    "print(\"Average mapping quality for all the reads: \" + str(sumq / count))\n",
    "print(\"Average mapping quality if reads with 0 mapp quality are filtered out: \" +str(sumnot0 / (count-quality0)))"
   ]
  },
  {
   "cell_type": "code",
   "execution_count": null,
   "metadata": {},
   "outputs": [],
   "source": []
  }
 ],
 "metadata": {
  "kernelspec": {
   "display_name": "Python 3",
   "language": "python",
   "name": "python3"
  },
  "language_info": {
   "codemirror_mode": {
    "name": "ipython",
    "version": 3
   },
   "file_extension": ".py",
   "mimetype": "text/x-python",
   "name": "python",
   "nbconvert_exporter": "python",
   "pygments_lexer": "ipython3",
   "version": "3.6.3"
  }
 },
 "nbformat": 4,
 "nbformat_minor": 2
}
